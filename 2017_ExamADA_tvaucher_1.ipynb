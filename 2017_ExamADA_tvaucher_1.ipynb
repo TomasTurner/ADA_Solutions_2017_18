{
 "cells": [
  {
   "cell_type": "code",
   "execution_count": 1,
   "metadata": {},
   "outputs": [],
   "source": [
    "import numpy as np\n",
    "import pandas as pd\n",
    "import matplotlib.pyplot as plt\n",
    "%matplotlib inline"
   ]
  },
  {
   "cell_type": "markdown",
   "metadata": {},
   "source": [
    "# ADA final exam\n",
    "\n",
    "## Deadline\n",
    "\n",
    "_Friday, January 19, 2018, at 19:15 CET_\n",
    "\n",
    "\n",
    "## Important notes\n",
    "\n",
    "* Don't forget to add a textual description of your thought process, the assumptions you made, and your results!\n",
    "* Please write all your comments in English, and use meaningful variable names in your code.\n",
    "* As we have seen during the semester, data science is all about multiple iterations on the same dataset. Do not obsess over small details in the beginning, and try to complete as many tasks as possible during the first 2 hours. Then, go back to the obtained results, write meaningful comments, and debug your code if you have found any glaring mistake.\n",
    "* You cannot leave the room in the first and last 15 minutes.\n",
    "* You can use all the online resources you want except for communication tools (emails, web chats, forums, phone, etc.). We will monitor the network for unusual activities.\n",
    "* Remember, this is not a homework assignment -- no teamwork allowed!\n",
    "\n",
    "## Submission\n",
    "\n",
    "* Make sure you upload your iPython Notebook (1 file) with [this form](https://goo.gl/forms/JKPX74ZH707sB7Up1) at the end of the exam, with all the cells already evaluated (except for the Spark-related question 1.4).\n",
    "* Complete all the fields in the form, and name your file following the format \"NameSurname_sciper.ipynb\". The form will be open to submissions until 19:20 (strict deadline). Late submissions will not be accepted.\n",
    "\n",
    "# Design the Pokedex 2.0\n",
    "\n",
    "![banner](images/dataset-cover.jpg)\n",
    "\n",
    "Pokémon are small creatures that fight in competitions. All Pokémon have different numerical characteristics (strength of attack, defense, etc.) and belong to one or two so-called classes (water, fire, etc.).\n",
    "[Professor Oak](https://www.pojo.com/cartoon/Oak.gif) is the inventor of the [Pokedex](https://en.wikipedia.org/wiki/Gameplay_of_Pok%C3%A9mon#Pok%C3%A9dex), a useful portable device that keeps information about all the Pokémon available. As his lead data scientist, you just received a request from him asking you to update the software on all Pokedex devices. In this exam, you will work toward improving the Pokedex by (1) exploring a dataset of Pokémon and the battles they fight, (2) developing a model for predicting the outcome of battles between Pokémon, and (3) devising a method for ranking Pokémon by their overall strength.\n",
    "\n",
    "## Dataset description\n",
    "\n",
    "Professor Oak has dumped the memory of one Pokedex device, resulting in the dataset you’ll work with in this exam.\n",
    "\n",
    "### [pokemon.csv](pokemon.csv)\n",
    "\n",
    "In this file, each row represents the features of one Pokémon.\n",
    "\n",
    "* pid: Numeric - ID of the Pokémon\n",
    "* HP: Numeric - Health points\n",
    "* Attack: Numeric - Strength of the regular attack\n",
    "* Defense: Numeric - Strength of the regular defense\n",
    "* Sp. Atk: Numeric - Strength of the special attack\n",
    "* Sp. Def: Numeric - Strength of the special defense\n",
    "* Speed: Numeric - Moving speed\n",
    "* Legendary: Boolean - ‘True’ if the Pokémon is rare\n",
    "* Class 1: Categorical - Pokémon class\n",
    "* Class 2: Categorical - Pokémon class\n",
    "\n",
    "Please note that a Pokémon can have either one or two classes. If a Pokémon has two classes, they are both considered to have the same importance.\n",
    "\n",
    "### [combats.csv](combats.csv)\n",
    "\n",
    "In this file, each row represents the outcome of one battle between two Pokémon.\n",
    "\n",
    "* First_pokemon: Numeric - ID (match with pid)\n",
    "* Second_pokemon: Numeric - ID (match with pid)\n",
    "* Winner: Numeric - ID of the winner\n",
    "\n",
    "## Question 1: Exploring the data - 30 points\n",
    "\n",
    "In this part, you will explore the data to address the curiosities of the demanding Professor Oak.\n",
    "\n",
    "**1.** (6 points) Explore the data and report some descriptive statistics (e.g., use df.describe(), report the number of classes, summarize the attack and defense distributions, etc.). This will be useful later in your analysis."
   ]
  },
  {
   "cell_type": "code",
   "execution_count": 2,
   "metadata": {},
   "outputs": [
    {
     "data": {
      "text/html": [
       "<div>\n",
       "<style scoped>\n",
       "    .dataframe tbody tr th:only-of-type {\n",
       "        vertical-align: middle;\n",
       "    }\n",
       "\n",
       "    .dataframe tbody tr th {\n",
       "        vertical-align: top;\n",
       "    }\n",
       "\n",
       "    .dataframe thead th {\n",
       "        text-align: right;\n",
       "    }\n",
       "</style>\n",
       "<table border=\"1\" class=\"dataframe\">\n",
       "  <thead>\n",
       "    <tr style=\"text-align: right;\">\n",
       "      <th></th>\n",
       "      <th>HP</th>\n",
       "      <th>Attack</th>\n",
       "      <th>Defense</th>\n",
       "      <th>Sp. Atk</th>\n",
       "      <th>Sp. Def</th>\n",
       "      <th>Speed</th>\n",
       "    </tr>\n",
       "  </thead>\n",
       "  <tbody>\n",
       "    <tr>\n",
       "      <th>count</th>\n",
       "      <td>800.000000</td>\n",
       "      <td>800.000000</td>\n",
       "      <td>800.000000</td>\n",
       "      <td>800.000000</td>\n",
       "      <td>800.000000</td>\n",
       "      <td>800.000000</td>\n",
       "    </tr>\n",
       "    <tr>\n",
       "      <th>mean</th>\n",
       "      <td>69.258750</td>\n",
       "      <td>79.001250</td>\n",
       "      <td>73.842500</td>\n",
       "      <td>72.820000</td>\n",
       "      <td>71.902500</td>\n",
       "      <td>68.277500</td>\n",
       "    </tr>\n",
       "    <tr>\n",
       "      <th>std</th>\n",
       "      <td>25.534669</td>\n",
       "      <td>32.457366</td>\n",
       "      <td>31.183501</td>\n",
       "      <td>32.722294</td>\n",
       "      <td>27.828916</td>\n",
       "      <td>29.060474</td>\n",
       "    </tr>\n",
       "    <tr>\n",
       "      <th>min</th>\n",
       "      <td>1.000000</td>\n",
       "      <td>5.000000</td>\n",
       "      <td>5.000000</td>\n",
       "      <td>10.000000</td>\n",
       "      <td>20.000000</td>\n",
       "      <td>5.000000</td>\n",
       "    </tr>\n",
       "    <tr>\n",
       "      <th>25%</th>\n",
       "      <td>50.000000</td>\n",
       "      <td>55.000000</td>\n",
       "      <td>50.000000</td>\n",
       "      <td>49.750000</td>\n",
       "      <td>50.000000</td>\n",
       "      <td>45.000000</td>\n",
       "    </tr>\n",
       "    <tr>\n",
       "      <th>50%</th>\n",
       "      <td>65.000000</td>\n",
       "      <td>75.000000</td>\n",
       "      <td>70.000000</td>\n",
       "      <td>65.000000</td>\n",
       "      <td>70.000000</td>\n",
       "      <td>65.000000</td>\n",
       "    </tr>\n",
       "    <tr>\n",
       "      <th>75%</th>\n",
       "      <td>80.000000</td>\n",
       "      <td>100.000000</td>\n",
       "      <td>90.000000</td>\n",
       "      <td>95.000000</td>\n",
       "      <td>90.000000</td>\n",
       "      <td>90.000000</td>\n",
       "    </tr>\n",
       "    <tr>\n",
       "      <th>max</th>\n",
       "      <td>255.000000</td>\n",
       "      <td>190.000000</td>\n",
       "      <td>230.000000</td>\n",
       "      <td>194.000000</td>\n",
       "      <td>230.000000</td>\n",
       "      <td>180.000000</td>\n",
       "    </tr>\n",
       "  </tbody>\n",
       "</table>\n",
       "</div>"
      ],
      "text/plain": [
       "               HP      Attack     Defense     Sp. Atk     Sp. Def       Speed\n",
       "count  800.000000  800.000000  800.000000  800.000000  800.000000  800.000000\n",
       "mean    69.258750   79.001250   73.842500   72.820000   71.902500   68.277500\n",
       "std     25.534669   32.457366   31.183501   32.722294   27.828916   29.060474\n",
       "min      1.000000    5.000000    5.000000   10.000000   20.000000    5.000000\n",
       "25%     50.000000   55.000000   50.000000   49.750000   50.000000   45.000000\n",
       "50%     65.000000   75.000000   70.000000   65.000000   70.000000   65.000000\n",
       "75%     80.000000  100.000000   90.000000   95.000000   90.000000   90.000000\n",
       "max    255.000000  190.000000  230.000000  194.000000  230.000000  180.000000"
      ]
     },
     "execution_count": 2,
     "metadata": {},
     "output_type": "execute_result"
    }
   ],
   "source": [
    "pokemon_df = pd.read_csv('pokemon.csv', index_col='pid')\n",
    "\n",
    "# All around stats\n",
    "pokemon_df.describe()"
   ]
  },
  {
   "cell_type": "code",
   "execution_count": 3,
   "metadata": {},
   "outputs": [
    {
     "name": "stdout",
     "output_type": "stream",
     "text": [
      "{'Psychic', 'Ice', 'Bug', 'Ghost', 'Steel', 'Poison', 'Dark', 'Fighting', 'Dragon', 'Fairy', 'Rock', 'Fire', 'Grass', 'Normal', 'Ground', 'Water', 'Electric', 'Flying'}\n",
      "There's 18 Classes\n"
     ]
    }
   ],
   "source": [
    "all_classes = set(pokemon_df['Class 1']).union(set(pokemon_df['Class 2']))\n",
    "all_classes.remove(np.nan)\n",
    "print(all_classes)\n",
    "print(f'There\\'s {len(all_classes)} Classes')"
   ]
  },
  {
   "cell_type": "code",
   "execution_count": 4,
   "metadata": {},
   "outputs": [
    {
     "data": {
      "image/png": "[encoded data removed]",
      "text/plain": [
       "<Figure size 1440x720 with 6 Axes>"
      ]
     },
     "metadata": {
      "needs_background": "light"
     },
     "output_type": "display_data"
    }
   ],
   "source": [
    "# Other stat distributions\n",
    "pokemon_df[['Attack', 'Defense', 'Sp. Atk', 'Sp. Def', 'Speed']].hist(bins=20, figsize=(20, 10))\n",
    "plt.show()"
   ]
  },
  {
   "cell_type": "code",
   "execution_count": 5,
   "metadata": {},
   "outputs": [
    {
     "name": "stdout",
     "output_type": "stream",
     "text": [
      "There's 800 different pokemons\n"
     ]
    }
   ],
   "source": [
    "print(f\"There's {len(pokemon_df)} different pokemons\")"
   ]
  },
  {
   "cell_type": "markdown",
   "metadata": {},
   "source": [
    "**2.** (4 points) Compare the probability distribution of the “regular attack” feature with that of the “regular defense” feature. In particular,\n",
    "\n",
    "1. visualize the relation between these two variables using an appropriate plot;\n",
    "2. list the names of the 3 Pokémon with highest attack-over-defense ratio;\n",
    "3. list the names of the 3 Pokémon with lowest attack-over-defense ratio;\n",
    "4. list the names of the 10 Pokémon with the largest number of victories."
   ]
  },
  {
   "cell_type": "code",
   "execution_count": 6,
   "metadata": {},
   "outputs": [
    {
     "data": {
      "text/html": [
       "<div>\n",
       "<style scoped>\n",
       "    .dataframe tbody tr th:only-of-type {\n",
       "        vertical-align: middle;\n",
       "    }\n",
       "\n",
       "    .dataframe tbody tr th {\n",
       "        vertical-align: top;\n",
       "    }\n",
       "\n",
       "    .dataframe thead th {\n",
       "        text-align: right;\n",
       "    }\n",
       "</style>\n",
       "<table border=\"1\" class=\"dataframe\">\n",
       "  <thead>\n",
       "    <tr style=\"text-align: right;\">\n",
       "      <th></th>\n",
       "      <th>Name</th>\n",
       "      <th>Class 1</th>\n",
       "      <th>Class 2</th>\n",
       "      <th>HP</th>\n",
       "      <th>Attack</th>\n",
       "      <th>Defense</th>\n",
       "      <th>Sp. Atk</th>\n",
       "      <th>Sp. Def</th>\n",
       "      <th>Speed</th>\n",
       "      <th>Legendary</th>\n",
       "    </tr>\n",
       "    <tr>\n",
       "      <th>pid</th>\n",
       "      <th></th>\n",
       "      <th></th>\n",
       "      <th></th>\n",
       "      <th></th>\n",
       "      <th></th>\n",
       "      <th></th>\n",
       "      <th></th>\n",
       "      <th></th>\n",
       "      <th></th>\n",
       "      <th></th>\n",
       "    </tr>\n",
       "  </thead>\n",
       "  <tbody>\n",
       "    <tr>\n",
       "      <th>1</th>\n",
       "      <td>Bulbasaur</td>\n",
       "      <td>Grass</td>\n",
       "      <td>Poison</td>\n",
       "      <td>45</td>\n",
       "      <td>49</td>\n",
       "      <td>49</td>\n",
       "      <td>65</td>\n",
       "      <td>65</td>\n",
       "      <td>45</td>\n",
       "      <td>False</td>\n",
       "    </tr>\n",
       "    <tr>\n",
       "      <th>2</th>\n",
       "      <td>Ivysaur</td>\n",
       "      <td>Grass</td>\n",
       "      <td>Poison</td>\n",
       "      <td>60</td>\n",
       "      <td>62</td>\n",
       "      <td>63</td>\n",
       "      <td>80</td>\n",
       "      <td>80</td>\n",
       "      <td>60</td>\n",
       "      <td>False</td>\n",
       "    </tr>\n",
       "    <tr>\n",
       "      <th>3</th>\n",
       "      <td>Venusaur</td>\n",
       "      <td>Grass</td>\n",
       "      <td>Poison</td>\n",
       "      <td>80</td>\n",
       "      <td>82</td>\n",
       "      <td>83</td>\n",
       "      <td>100</td>\n",
       "      <td>100</td>\n",
       "      <td>80</td>\n",
       "      <td>False</td>\n",
       "    </tr>\n",
       "    <tr>\n",
       "      <th>4</th>\n",
       "      <td>Mega Venusaur</td>\n",
       "      <td>Grass</td>\n",
       "      <td>Poison</td>\n",
       "      <td>80</td>\n",
       "      <td>100</td>\n",
       "      <td>123</td>\n",
       "      <td>122</td>\n",
       "      <td>120</td>\n",
       "      <td>80</td>\n",
       "      <td>False</td>\n",
       "    </tr>\n",
       "    <tr>\n",
       "      <th>5</th>\n",
       "      <td>Charmander</td>\n",
       "      <td>Fire</td>\n",
       "      <td>NaN</td>\n",
       "      <td>39</td>\n",
       "      <td>52</td>\n",
       "      <td>43</td>\n",
       "      <td>60</td>\n",
       "      <td>50</td>\n",
       "      <td>65</td>\n",
       "      <td>False</td>\n",
       "    </tr>\n",
       "  </tbody>\n",
       "</table>\n",
       "</div>"
      ],
      "text/plain": [
       "              Name Class 1 Class 2  HP  Attack  Defense  Sp. Atk  Sp. Def  \\\n",
       "pid                                                                         \n",
       "1        Bulbasaur   Grass  Poison  45      49       49       65       65   \n",
       "2          Ivysaur   Grass  Poison  60      62       63       80       80   \n",
       "3         Venusaur   Grass  Poison  80      82       83      100      100   \n",
       "4    Mega Venusaur   Grass  Poison  80     100      123      122      120   \n",
       "5       Charmander    Fire     NaN  39      52       43       60       50   \n",
       "\n",
       "     Speed  Legendary  \n",
       "pid                    \n",
       "1       45      False  \n",
       "2       60      False  \n",
       "3       80      False  \n",
       "4       80      False  \n",
       "5       65      False  "
      ]
     },
     "execution_count": 6,
     "metadata": {},
     "output_type": "execute_result"
    }
   ],
   "source": [
    "pokemon_df.head()"
   ]
  },
  {
   "cell_type": "code",
   "execution_count": 7,
   "metadata": {},
   "outputs": [
    {
     "data": {
      "image/png": "[encoded data removed]",
      "text/plain": [
       "<Figure size 720x432 with 1 Axes>"
      ]
     },
     "metadata": {
      "needs_background": "light"
     },
     "output_type": "display_data"
    }
   ],
   "source": [
    "# a\n",
    "fig, ax = plt.subplots(figsize=(10, 6))\n",
    "ax.scatter(x='Attack', y='Defense', data=pokemon_df[['Attack', 'Defense']], s=5)\n",
    "ax.set_title('Attack to Defense relation')\n",
    "ax.set_xlabel('Attack')\n",
    "ax.set_ylabel('Defense')\n",
    "plt.show()"
   ]
  },
  {
   "cell_type": "code",
   "execution_count": 8,
   "metadata": {},
   "outputs": [
    {
     "name": "stdout",
     "output_type": "stream",
     "text": [
      "Top 3 best Attack Def Ratio pokemons ['DeoxysAttack Forme', 'Carvanha', 'Mega Beedrill']\n",
      "Worst 3 best Attack Def Ratio pokemons ['Shuckle', 'Magikarp', 'Bronzor']\n"
     ]
    }
   ],
   "source": [
    "# b\n",
    "pokemon_df['AttackDefRatio'] = pokemon_df.Attack / pokemon_df.Defense\n",
    "print('Top 3 best Attack Def Ratio pokemons', pokemon_df.sort_values('AttackDefRatio', ascending=False).Name[:3].tolist())\n",
    "\n",
    "# c\n",
    "print('Worst 3 best Attack Def Ratio pokemons', pokemon_df.sort_values('AttackDefRatio').Name[:3].tolist())"
   ]
  },
  {
   "cell_type": "code",
   "execution_count": 9,
   "metadata": {},
   "outputs": [
    {
     "data": {
      "text/html": [
       "<div>\n",
       "<style scoped>\n",
       "    .dataframe tbody tr th:only-of-type {\n",
       "        vertical-align: middle;\n",
       "    }\n",
       "\n",
       "    .dataframe tbody tr th {\n",
       "        vertical-align: top;\n",
       "    }\n",
       "\n",
       "    .dataframe thead th {\n",
       "        text-align: right;\n",
       "    }\n",
       "</style>\n",
       "<table border=\"1\" class=\"dataframe\">\n",
       "  <thead>\n",
       "    <tr style=\"text-align: right;\">\n",
       "      <th></th>\n",
       "      <th>Name</th>\n",
       "      <th>Wins</th>\n",
       "    </tr>\n",
       "    <tr>\n",
       "      <th>Winner</th>\n",
       "      <th></th>\n",
       "      <th></th>\n",
       "    </tr>\n",
       "  </thead>\n",
       "  <tbody>\n",
       "    <tr>\n",
       "      <th>163</th>\n",
       "      <td>Mewtwo</td>\n",
       "      <td>152</td>\n",
       "    </tr>\n",
       "    <tr>\n",
       "      <th>154</th>\n",
       "      <td>Aerodactyl</td>\n",
       "      <td>136</td>\n",
       "    </tr>\n",
       "    <tr>\n",
       "      <th>438</th>\n",
       "      <td>Infernape</td>\n",
       "      <td>136</td>\n",
       "    </tr>\n",
       "    <tr>\n",
       "      <th>428</th>\n",
       "      <td>Jirachi</td>\n",
       "      <td>134</td>\n",
       "    </tr>\n",
       "    <tr>\n",
       "      <th>432</th>\n",
       "      <td>Deoxys Speed Forme</td>\n",
       "      <td>133</td>\n",
       "    </tr>\n",
       "    <tr>\n",
       "      <th>314</th>\n",
       "      <td>Slaking</td>\n",
       "      <td>133</td>\n",
       "    </tr>\n",
       "    <tr>\n",
       "      <th>214</th>\n",
       "      <td>Murkrow</td>\n",
       "      <td>130</td>\n",
       "    </tr>\n",
       "    <tr>\n",
       "      <th>394</th>\n",
       "      <td>Mega Absol</td>\n",
       "      <td>130</td>\n",
       "    </tr>\n",
       "    <tr>\n",
       "      <th>249</th>\n",
       "      <td>Mega Houndoom</td>\n",
       "      <td>128</td>\n",
       "    </tr>\n",
       "    <tr>\n",
       "      <th>155</th>\n",
       "      <td>Mega Aerodactyl</td>\n",
       "      <td>127</td>\n",
       "    </tr>\n",
       "  </tbody>\n",
       "</table>\n",
       "</div>"
      ],
      "text/plain": [
       "                      Name  Wins\n",
       "Winner                          \n",
       "163                 Mewtwo   152\n",
       "154             Aerodactyl   136\n",
       "438              Infernape   136\n",
       "428                Jirachi   134\n",
       "432     Deoxys Speed Forme   133\n",
       "314                Slaking   133\n",
       "214                Murkrow   130\n",
       "394             Mega Absol   130\n",
       "249          Mega Houndoom   128\n",
       "155        Mega Aerodactyl   127"
      ]
     },
     "execution_count": 9,
     "metadata": {},
     "output_type": "execute_result"
    }
   ],
   "source": [
    "# d\n",
    "combats_df = pd.read_csv('combats.csv')\n",
    "wins_df = combats_df.groupby('Winner').agg(Wins=('First_pokemon', pd.Series.count))\n",
    "wins_df.sort_values('Wins', ascending=False)[:10].join(pokemon_df)[['Name', 'Wins']]"
   ]
  },
  {
   "cell_type": "markdown",
   "metadata": {},
   "source": [
    "**3.** (10 points) Professor Oak suspects that Pokémon in the _grass_ class have a stronger regular attack than those in the _rock_ class. Check if he is right and convince him of your conclusion with statistical arguments.\n",
    "\n",
    "Note: If there are Pokémon that are in both classes, discard them.\n",
    "\n",
    "Note: You may assume that the distribution of the regular attack feature is normal for all Pokémon classes."
   ]
  },
  {
   "cell_type": "code",
   "execution_count": 10,
   "metadata": {},
   "outputs": [
    {
     "name": "stderr",
     "output_type": "stream",
     "text": [
      "D:\\Programmes\\Anaconda3\\envs\\ada\\lib\\site-packages\\ipykernel_launcher.py:2: UserWarning: Boolean Series key will be reindexed to match DataFrame index.\n",
      "  \n",
      "D:\\Programmes\\Anaconda3\\envs\\ada\\lib\\site-packages\\ipykernel_launcher.py:3: UserWarning: Boolean Series key will be reindexed to match DataFrame index.\n",
      "  This is separate from the ipykernel package so we can avoid doing imports until\n"
     ]
    }
   ],
   "source": [
    "pokemon_without_double_df = pokemon_df[~((pokemon_df['Class 1'] == 'Rock') & (pokemon_df['Class 2'] == 'Grass'))] # There's not pokemon Grass, Rock\n",
    "grass_df = pokemon_without_double_df[(pokemon_df['Class 1'] == 'Grass') | (pokemon_df['Class 2'] == 'Grass')].copy()\n",
    "rock_df = pokemon_without_double_df[(pokemon_df['Class 1'] == 'Rock') | (pokemon_df['Class 2'] == 'Rock')].copy()"
   ]
  },
  {
   "cell_type": "code",
   "execution_count": 11,
   "metadata": {},
   "outputs": [
    {
     "data": {
      "image/png": "[encoded data removed]",
      "text/plain": [
       "<Figure size 720x432 with 1 Axes>"
      ]
     },
     "metadata": {
      "needs_background": "light"
     },
     "output_type": "display_data"
    }
   ],
   "source": [
    "fig, ax = plt.subplots(figsize=(10, 6))\n",
    "grass_df.Attack.hist(bins=20, ax=ax, alpha=0.5)\n",
    "rock_df.Attack.hist(bins=20, ax=ax, alpha=0.5)\n",
    "ax.set_title('Attack distribution for Grass and Rock pokemon')\n",
    "ax.set_xlabel('Attack')\n",
    "plt.legend(['Grass', 'Rock'])\n",
    "plt.show()"
   ]
  },
  {
   "cell_type": "markdown",
   "metadata": {},
   "source": [
    "as we have the assumption that they are normally distributed (which is actually roughly the case), we can run a independent t-test with $\\mathcal{H}_0$: both sample comes from the same distribution, $\\mathcal{H}_1$: Grass pokemons have a higher attack than Rock (single tailed hypothesis, larger)"
   ]
  },
  {
   "cell_type": "code",
   "execution_count": 12,
   "metadata": {},
   "outputs": [
    {
     "name": "stdout",
     "output_type": "stream",
     "text": [
      "(-3.729457582692065, 0.9998633330927005, 147.0)\n",
      "(-3.729457582692065, 0.00013666690729951327, 147.0)\n"
     ]
    }
   ],
   "source": [
    "from statsmodels.stats.weightstats import ttest_ind\n",
    "print(ttest_ind(grass_df.Attack, rock_df.Attack, alternative='larger'))\n",
    "print(ttest_ind(grass_df.Attack, rock_df.Attack, alternative='smaller'))"
   ]
  },
  {
   "cell_type": "markdown",
   "metadata": {},
   "source": [
    "We ran an *independent t-test(t=-3.7, df=147)*, as p $\\gg$ 0.1, we can actually say that, because p $\\ll$ 0.01 if we use the 'smaller' alternative hypothesis, Rock pokemons have higher attack than grass pokemons"
   ]
  },
  {
   "cell_type": "markdown",
   "metadata": {},
   "source": [
    "**4.** (10 points) Professor Oak reveals to you that he has built a backdoor into every Pokedex in the world and that he is secretly dumping the memory of all devices to his servers. He expects to have the records of 1 billion combats soon, and one machine won’t be enough to handle all this data, so he wants you to use Spark. Your task: Solve problem 2iv above (“list the names of the 10 Pokémon with the largest number of victories”) with a Spark implementation in Python. The output should be a Python list with 10 names sorted in descending order of number of victories.\n",
    "Note: You don’t need to run the Spark code -- just list it! You should assume that you have two DataFrames (already loaded) called `pokemon` and `combats`, with the same schema as the small CSV files you’ve been working with above."
   ]
  },
  {
   "cell_type": "code",
   "execution_count": 13,
   "metadata": {},
   "outputs": [],
   "source": [
    "import pyspark\n",
    "from pyspark.sql import SparkSession \n",
    "from pyspark.sql.functions import count, desc\n",
    "\n",
    "# create the session\n",
    "spark = SparkSession.builder.getOrCreate()\n",
    "\n",
    "# create the context\n",
    "sc = spark.sparkContext"
   ]
  },
  {
   "cell_type": "code",
   "execution_count": 14,
   "metadata": {},
   "outputs": [],
   "source": [
    "pokemon_spark = spark.read.csv('pokemon.csv', header=True)\n",
    "combats_spark = spark.read.csv('combats.csv', header=True)"
   ]
  },
  {
   "cell_type": "code",
   "execution_count": 15,
   "metadata": {},
   "outputs": [
    {
     "name": "stdout",
     "output_type": "stream",
     "text": [
      "+------------------+----+\n",
      "|              Name|Wins|\n",
      "+------------------+----+\n",
      "|            Mewtwo| 152|\n",
      "|        Aerodactyl| 136|\n",
      "|         Infernape| 136|\n",
      "|           Jirachi| 134|\n",
      "|Deoxys Speed Forme| 133|\n",
      "|           Slaking| 133|\n",
      "|           Murkrow| 130|\n",
      "|        Mega Absol| 130|\n",
      "|     Mega Houndoom| 128|\n",
      "|   Mega Aerodactyl| 127|\n",
      "+------------------+----+\n",
      "\n"
     ]
    }
   ],
   "source": [
    "top_10 = combats_spark.groupBy('Winner').agg(count('*').alias('Wins'))\n",
    "top_10.join(pokemon_spark, top_10.Winner == pokemon_spark.pid).select(['Name', 'Wins']).sort(desc('Wins')).limit(10).show()"
   ]
  },
  {
   "cell_type": "markdown",
   "metadata": {},
   "source": [
    "## Question 2: Prediction - 40 points\n",
    "\n",
    "Now that you know what your data looks like, you are ready to implement the prediction model for the Pokedex 2.0. The model should take as input the features of two Pokémon and generate a binary value to predict who will win.\n",
    "\n",
    "**1.** (3 points) Generate the feature vectors and the labels to train your model."
   ]
  },
  {
   "cell_type": "code",
   "execution_count": 16,
   "metadata": {},
   "outputs": [],
   "source": [
    "pokemon_df['Legendary_int'] = pokemon_df.Legendary.astype(int)"
   ]
  },
  {
   "cell_type": "code",
   "execution_count": 17,
   "metadata": {},
   "outputs": [],
   "source": [
    "pokemon_df['Type'] = True\n",
    "type_df = (pokemon_df.pivot(columns='Class 1', values='Type') | pokemon_df.pivot(columns='Class 2', values='Type')).drop(columns=np.nan, axis=1).astype(int)"
   ]
  },
  {
   "cell_type": "code",
   "execution_count": 19,
   "metadata": {},
   "outputs": [],
   "source": [
    "features = ['HP', 'Attack', 'Defense', 'Sp. Atk', 'Sp. Def', 'Speed', 'Legendary_int']\n",
    "X = []\n",
    "y = []\n",
    "for _, (i, j, winner) in combats_df.iterrows():\n",
    "    try:\n",
    "        X.append(np.concatenate([pokemon_df.loc[i][features].to_numpy(),\n",
    "                                 type_df.loc[i].to_numpy(),\n",
    "                                 pokemon_df.loc[j][features].to_numpy(),\n",
    "                                 type_df.loc[j].to_numpy()\n",
    "                                ]))\n",
    "        y.append(0 if i==winner else 1)\n",
    "    except Exception as e:\n",
    "        print(i, j, winner, e)\n",
    "\n",
    "X, y = np.array(X), np.array(y)"
   ]
  },
  {
   "cell_type": "markdown",
   "metadata": {},
   "source": [
    "**2.** (5 points) How does your model handle categorical features and Pokémon with multiple classes?"
   ]
  },
  {
   "cell_type": "markdown",
   "metadata": {},
   "source": [
    "I decided to one hot encode the type of the pokemon (wheter he is from the typ or not). This naturally handle the case where the pokemon has multiple class."
   ]
  },
  {
   "cell_type": "markdown",
   "metadata": {},
   "source": [
    "**3**. (10 points) Train a random forest to predict the winner of a match based on the available features. To do so, split the full dataset randomly into a training set (90%) and a testing set (10%), and try different values of the number of estimators (`n_estimators`, try values 10, 25, 50, 100) and the maximum tree depth (`max_depth`, try values 2, 4, 10). Do this manually, without using any scikit-learn helpers."
   ]
  },
  {
   "cell_type": "code",
   "execution_count": 20,
   "metadata": {},
   "outputs": [],
   "source": [
    "np.random.seed(1)\n",
    "size = len(y)\n",
    "indices = np.arange(size)\n",
    "np.random.shuffle(indices)\n",
    "train_X = X[indices[:int(size*0.9)]]\n",
    "train_y = y[indices[:int(size*0.9)]]\n",
    "test_X = X[indices[int(size*0.9):]]\n",
    "test_y = y[indices[int(size*0.9):]]"
   ]
  },
  {
   "cell_type": "code",
   "execution_count": 21,
   "metadata": {},
   "outputs": [],
   "source": [
    "from sklearn.ensemble import RandomForestClassifier\n",
    "from sklearn.metrics import accuracy_score, f1_score\n",
    "n_estimators = [10, 25, 50, 100]\n",
    "max_depth = [2, 4, 10]\n",
    "classifiers = []\n",
    "for estimator in n_estimators:\n",
    "    for depth in max_depth:\n",
    "        clf = RandomForestClassifier(n_estimators=estimator, max_depth=depth, random_state=1).fit(train_X, train_y)\n",
    "        classifiers.append((estimator, depth, clf))"
   ]
  },
  {
   "cell_type": "markdown",
   "metadata": {},
   "source": [
    "**4.** (5 points) Summarize and describe the results you obtain when training on 90% and testing on 10% of the data. What is the best combination of the two hyperparameters (number of estimators and maximum tree depth)?"
   ]
  },
  {
   "cell_type": "code",
   "execution_count": 22,
   "metadata": {},
   "outputs": [
    {
     "name": "stdout",
     "output_type": "stream",
     "text": [
      "Model e=10, d=2\n",
      "Train accuracy=0.7608, f1 score=0.7781\n",
      "Test accuracy=0.7656, f1 score=0.7846\n",
      "Model e=10, d=4\n",
      "Train accuracy=0.8386, f1 score=0.8509\n",
      "Test accuracy=0.8378, f1 score=0.8516\n",
      "Model e=10, d=10\n",
      "Train accuracy=0.9191, f1 score=0.9228\n",
      "Test accuracy=0.9078, f1 score=0.9132\n",
      "Model e=25, d=2\n",
      "Train accuracy=0.7886, f1 score=0.8084\n",
      "Test accuracy=0.7948, f1 score=0.8154\n",
      "Model e=25, d=4\n",
      "Train accuracy=0.8332, f1 score=0.8470\n",
      "Test accuracy=0.8338, f1 score=0.8494\n",
      "Model e=25, d=10\n",
      "Train accuracy=0.9283, f1 score=0.9318\n",
      "Test accuracy=0.9152, f1 score=0.9206\n",
      "Model e=50, d=2\n",
      "Train accuracy=0.7936, f1 score=0.8165\n",
      "Test accuracy=0.8030, f1 score=0.8264\n",
      "Model e=50, d=4\n",
      "Train accuracy=0.8402, f1 score=0.8532\n",
      "Test accuracy=0.8430, f1 score=0.8575\n",
      "Model e=50, d=10\n",
      "Train accuracy=0.9322, f1 score=0.9355\n",
      "Test accuracy=0.9194, f1 score=0.9243\n",
      "Model e=100, d=2\n",
      "Train accuracy=0.7836, f1 score=0.8073\n",
      "Test accuracy=0.7878, f1 score=0.8122\n",
      "Model e=100, d=4\n",
      "Train accuracy=0.8367, f1 score=0.8492\n",
      "Test accuracy=0.8400, f1 score=0.8535\n",
      "Model e=100, d=10\n",
      "Train accuracy=0.9314, f1 score=0.9348\n",
      "Test accuracy=0.9180, f1 score=0.9232\n"
     ]
    }
   ],
   "source": [
    "for (estimator, depth, clf) in classifiers:\n",
    "    train_pred = clf.predict(train_X)\n",
    "    test_pred = clf.predict(test_X)\n",
    "    print(f'Model e={estimator}, d={depth}')\n",
    "    print(f'Train accuracy={accuracy_score(train_y, train_pred):.4f}, f1 score={f1_score(train_y, train_pred):.4f}')\n",
    "    print(f'Test accuracy={accuracy_score(test_y, test_pred):.4f}, f1 score={f1_score(test_y, test_pred):.4f}')"
   ]
  },
  {
   "cell_type": "markdown",
   "metadata": {},
   "source": [
    "Looking above, the best combination seems to be n_estimators=50 and d=10, with an accuracy of 91.94% and f1-score of 0.9243"
   ]
  },
  {
   "cell_type": "markdown",
   "metadata": {},
   "source": [
    "**5.** (5 points) Could the above training/testing setup potentially lead to wrong conclusions regarding the best hyperparameter setting? If so, describe why, and how you would address the problem. (Hint: think about how you’re making use of the data during training and testing)."
   ]
  },
  {
   "cell_type": "markdown",
   "metadata": {},
   "source": [
    "Indeed, we only use a single train split to train, so we don't know how well it generalize. Especially, some combinaison seem very close. A better idea would be to validate our hyperparameter choice using a validation set, i.e. perform K-fold validation for example"
   ]
  },
  {
   "cell_type": "markdown",
   "metadata": {},
   "source": [
    "**6.** (7 points) Implement your solution to the problem you’ve identified in the previous subquestion (5), and show and describe your results."
   ]
  },
  {
   "cell_type": "code",
   "execution_count": 23,
   "metadata": {},
   "outputs": [],
   "source": [
    "from sklearn.model_selection import GridSearchCV"
   ]
  },
  {
   "cell_type": "code",
   "execution_count": 24,
   "metadata": {},
   "outputs": [
    {
     "data": {
      "text/plain": [
       "GridSearchCV(cv=5, error_score='raise-deprecating',\n",
       "             estimator=RandomForestClassifier(bootstrap=True, class_weight=None,\n",
       "                                              criterion='gini', max_depth=None,\n",
       "                                              max_features='auto',\n",
       "                                              max_leaf_nodes=None,\n",
       "                                              min_impurity_decrease=0.0,\n",
       "                                              min_impurity_split=None,\n",
       "                                              min_samples_leaf=1,\n",
       "                                              min_samples_split=2,\n",
       "                                              min_weight_fraction_leaf=0.0,\n",
       "                                              n_estimators='warn', n_jobs=None,\n",
       "                                              oob_score=False,\n",
       "                                              random_state=None, verbose=0,\n",
       "                                              warm_start=False),\n",
       "             iid='warn', n_jobs=None,\n",
       "             param_grid={'max_depth': [2, 4, 10],\n",
       "                         'n_estimators': [10, 25, 50, 100]},\n",
       "             pre_dispatch='2*n_jobs', refit=True, return_train_score=False,\n",
       "             scoring='accuracy', verbose=0)"
      ]
     },
     "execution_count": 24,
     "metadata": {},
     "output_type": "execute_result"
    }
   ],
   "source": [
    "parameters = {'n_estimators':n_estimators, 'max_depth': max_depth}\n",
    "clf = GridSearchCV(RandomForestClassifier(), parameters, scoring='accuracy', cv=5)\n",
    "clf.fit(train_X, train_y)"
   ]
  },
  {
   "cell_type": "code",
   "execution_count": 25,
   "metadata": {},
   "outputs": [
    {
     "data": {
      "text/plain": [
       "({'max_depth': 10, 'n_estimators': 100}, 0.9164888888888889)"
      ]
     },
     "execution_count": 25,
     "metadata": {},
     "output_type": "execute_result"
    }
   ],
   "source": [
    "clf.best_params_, clf.best_score_"
   ]
  },
  {
   "cell_type": "code",
   "execution_count": 26,
   "metadata": {},
   "outputs": [
    {
     "data": {
      "text/plain": [
       "[({'max_depth': 2, 'n_estimators': 10}, 0.7454222222222222),\n",
       " ({'max_depth': 2, 'n_estimators': 25}, 0.7912222222222223),\n",
       " ({'max_depth': 2, 'n_estimators': 50}, 0.7857777777777778),\n",
       " ({'max_depth': 2, 'n_estimators': 100}, 0.7851777777777778),\n",
       " ({'max_depth': 4, 'n_estimators': 10}, 0.8179777777777778),\n",
       " ({'max_depth': 4, 'n_estimators': 25}, 0.8307333333333333),\n",
       " ({'max_depth': 4, 'n_estimators': 50}, 0.8309333333333333),\n",
       " ({'max_depth': 4, 'n_estimators': 100}, 0.8350444444444445),\n",
       " ({'max_depth': 10, 'n_estimators': 10}, 0.903),\n",
       " ({'max_depth': 10, 'n_estimators': 25}, 0.9082666666666667),\n",
       " ({'max_depth': 10, 'n_estimators': 50}, 0.9110888888888888),\n",
       " ({'max_depth': 10, 'n_estimators': 100}, 0.9164888888888889)]"
      ]
     },
     "execution_count": 26,
     "metadata": {},
     "output_type": "execute_result"
    }
   ],
   "source": [
    "list(zip(clf.cv_results_['params'], clf.cv_results_['mean_test_score']))"
   ]
  },
  {
   "cell_type": "markdown",
   "metadata": {},
   "source": [
    "Analysis is left to the reader, but we don't get the same best hyperparams using K-fold CV"
   ]
  },
  {
   "cell_type": "markdown",
   "metadata": {},
   "source": [
    "**7.** (5 points) Finally, Professor Oak wants to know what the most predictive features are. Plot feature importance as a bar plot representing the 10 most predictive variables."
   ]
  },
  {
   "cell_type": "code",
   "execution_count": 27,
   "metadata": {},
   "outputs": [],
   "source": [
    "# retrain model using real best params:\n",
    "clf = RandomForestClassifier(n_estimators=100, max_depth=10, random_state=1).fit(train_X, train_y)"
   ]
  },
  {
   "cell_type": "code",
   "execution_count": 28,
   "metadata": {},
   "outputs": [
    {
     "data": {
      "image/png": "[encoded data removed]",
      "text/plain": [
       "<Figure size 720x432 with 1 Axes>"
      ]
     },
     "metadata": {
      "needs_background": "light"
     },
     "output_type": "display_data"
    }
   ],
   "source": [
    "import seaborn as sns\n",
    "\n",
    "ordering = clf.feature_importances_.argsort()[::-1]\n",
    "features_all = [x + '_1' for x in features] + [x + '_1' for x in type_df.columns.tolist()]\\\n",
    "               + [x + '_2' for x in features] + [x + '_2' for x in type_df.columns.tolist()]\n",
    "fig, ax = plt.subplots(figsize=(10, 6))\n",
    "sns.barplot(x=np.array(features_all)[ordering][:10], y=clf.feature_importances_[ordering][:10], ax=ax)\n",
    "ax.set_title('10 most important features')\n",
    "ax.set_ylabel('Importance')\n",
    "plt.show()"
   ]
  },
  {
   "cell_type": "markdown",
   "metadata": {},
   "source": [
    "## Question 3: Ranking - 30 points\n",
    "\n",
    "Something the new Pokedex is missing is a smart way of ranking the Pokémon. As the dataset Professor Oak gave you contains the outcome of a large number of battles, the idea is to use this data to come up with a way of sorting the Pokémon from strongest to weakest.\n",
    "\n",
    "**1.** (5 points) Compute the winning ratio (number of wins divided by number of battles) for all Pokémon. Show the 10 Pokémon with the highest ratio and describe what they have in common with respect to their features. Discuss your results about feature importance from question 2.7 (regarding feature importance) in this context."
   ]
  },
  {
   "cell_type": "code",
   "execution_count": 29,
   "metadata": {},
   "outputs": [
    {
     "data": {
      "text/html": [
       "<div>\n",
       "<style scoped>\n",
       "    .dataframe tbody tr th:only-of-type {\n",
       "        vertical-align: middle;\n",
       "    }\n",
       "\n",
       "    .dataframe tbody tr th {\n",
       "        vertical-align: top;\n",
       "    }\n",
       "\n",
       "    .dataframe thead th {\n",
       "        text-align: right;\n",
       "    }\n",
       "</style>\n",
       "<table border=\"1\" class=\"dataframe\">\n",
       "  <thead>\n",
       "    <tr style=\"text-align: right;\">\n",
       "      <th></th>\n",
       "      <th>Wins</th>\n",
       "      <th>Win_ratio</th>\n",
       "      <th>Name</th>\n",
       "    </tr>\n",
       "    <tr>\n",
       "      <th>Winner</th>\n",
       "      <th></th>\n",
       "      <th></th>\n",
       "      <th></th>\n",
       "    </tr>\n",
       "  </thead>\n",
       "  <tbody>\n",
       "    <tr>\n",
       "      <th>155</th>\n",
       "      <td>127</td>\n",
       "      <td>0.984496</td>\n",
       "      <td>Mega Aerodactyl</td>\n",
       "    </tr>\n",
       "    <tr>\n",
       "      <th>513</th>\n",
       "      <td>116</td>\n",
       "      <td>0.974790</td>\n",
       "      <td>Weavile</td>\n",
       "    </tr>\n",
       "    <tr>\n",
       "      <th>704</th>\n",
       "      <td>121</td>\n",
       "      <td>0.968000</td>\n",
       "      <td>Tornadus Therian Forme</td>\n",
       "    </tr>\n",
       "    <tr>\n",
       "      <th>20</th>\n",
       "      <td>115</td>\n",
       "      <td>0.966387</td>\n",
       "      <td>Mega Beedrill</td>\n",
       "    </tr>\n",
       "    <tr>\n",
       "      <th>154</th>\n",
       "      <td>136</td>\n",
       "      <td>0.964539</td>\n",
       "      <td>Aerodactyl</td>\n",
       "    </tr>\n",
       "    <tr>\n",
       "      <th>477</th>\n",
       "      <td>124</td>\n",
       "      <td>0.961240</td>\n",
       "      <td>Mega Lopunny</td>\n",
       "    </tr>\n",
       "    <tr>\n",
       "      <th>727</th>\n",
       "      <td>122</td>\n",
       "      <td>0.960630</td>\n",
       "      <td>Greninja</td>\n",
       "    </tr>\n",
       "    <tr>\n",
       "      <th>717</th>\n",
       "      <td>118</td>\n",
       "      <td>0.959350</td>\n",
       "      <td>Meloetta Pirouette Forme</td>\n",
       "    </tr>\n",
       "    <tr>\n",
       "      <th>165</th>\n",
       "      <td>119</td>\n",
       "      <td>0.952000</td>\n",
       "      <td>Mega Mewtwo Y</td>\n",
       "    </tr>\n",
       "    <tr>\n",
       "      <th>350</th>\n",
       "      <td>114</td>\n",
       "      <td>0.950000</td>\n",
       "      <td>Mega Sharpedo</td>\n",
       "    </tr>\n",
       "  </tbody>\n",
       "</table>\n",
       "</div>"
      ],
      "text/plain": [
       "        Wins  Win_ratio                      Name\n",
       "Winner                                           \n",
       "155      127   0.984496           Mega Aerodactyl\n",
       "513      116   0.974790                   Weavile\n",
       "704      121   0.968000    Tornadus Therian Forme\n",
       "20       115   0.966387             Mega Beedrill\n",
       "154      136   0.964539                Aerodactyl\n",
       "477      124   0.961240              Mega Lopunny\n",
       "727      122   0.960630                  Greninja\n",
       "717      118   0.959350  Meloetta Pirouette Forme\n",
       "165      119   0.952000             Mega Mewtwo Y\n",
       "350      114   0.950000             Mega Sharpedo"
      ]
     },
     "execution_count": 29,
     "metadata": {},
     "output_type": "execute_result"
    }
   ],
   "source": [
    "total_battle_df = combats_df.First_pokemon.value_counts() + combats_df.Second_pokemon.value_counts()\n",
    "wins_df['Win_ratio'] = wins_df.Wins / total_battle_df\n",
    "best_win_ratio_df = wins_df.sort_values('Win_ratio', ascending=False).head(10).join(pokemon_df.Name)\n",
    "best_win_ratio_df"
   ]
  },
  {
   "cell_type": "code",
   "execution_count": 30,
   "metadata": {},
   "outputs": [
    {
     "data": {
      "text/html": [
       "<div>\n",
       "<style scoped>\n",
       "    .dataframe tbody tr th:only-of-type {\n",
       "        vertical-align: middle;\n",
       "    }\n",
       "\n",
       "    .dataframe tbody tr th {\n",
       "        vertical-align: top;\n",
       "    }\n",
       "\n",
       "    .dataframe thead th {\n",
       "        text-align: right;\n",
       "    }\n",
       "</style>\n",
       "<table border=\"1\" class=\"dataframe\">\n",
       "  <thead>\n",
       "    <tr style=\"text-align: right;\">\n",
       "      <th></th>\n",
       "      <th>Wins</th>\n",
       "      <th>Win_ratio</th>\n",
       "      <th>Name</th>\n",
       "      <th>HP</th>\n",
       "      <th>Attack</th>\n",
       "      <th>Defense</th>\n",
       "      <th>Sp. Atk</th>\n",
       "      <th>Sp. Def</th>\n",
       "      <th>Speed</th>\n",
       "      <th>Legendary_int</th>\n",
       "    </tr>\n",
       "    <tr>\n",
       "      <th>Winner</th>\n",
       "      <th></th>\n",
       "      <th></th>\n",
       "      <th></th>\n",
       "      <th></th>\n",
       "      <th></th>\n",
       "      <th></th>\n",
       "      <th></th>\n",
       "      <th></th>\n",
       "      <th></th>\n",
       "      <th></th>\n",
       "    </tr>\n",
       "  </thead>\n",
       "  <tbody>\n",
       "    <tr>\n",
       "      <th>155</th>\n",
       "      <td>127</td>\n",
       "      <td>0.984496</td>\n",
       "      <td>Mega Aerodactyl</td>\n",
       "      <td>80</td>\n",
       "      <td>135</td>\n",
       "      <td>85</td>\n",
       "      <td>70</td>\n",
       "      <td>95</td>\n",
       "      <td>150</td>\n",
       "      <td>0</td>\n",
       "    </tr>\n",
       "    <tr>\n",
       "      <th>513</th>\n",
       "      <td>116</td>\n",
       "      <td>0.974790</td>\n",
       "      <td>Weavile</td>\n",
       "      <td>70</td>\n",
       "      <td>120</td>\n",
       "      <td>65</td>\n",
       "      <td>45</td>\n",
       "      <td>85</td>\n",
       "      <td>125</td>\n",
       "      <td>0</td>\n",
       "    </tr>\n",
       "    <tr>\n",
       "      <th>704</th>\n",
       "      <td>121</td>\n",
       "      <td>0.968000</td>\n",
       "      <td>Tornadus Therian Forme</td>\n",
       "      <td>79</td>\n",
       "      <td>100</td>\n",
       "      <td>80</td>\n",
       "      <td>110</td>\n",
       "      <td>90</td>\n",
       "      <td>121</td>\n",
       "      <td>1</td>\n",
       "    </tr>\n",
       "    <tr>\n",
       "      <th>20</th>\n",
       "      <td>115</td>\n",
       "      <td>0.966387</td>\n",
       "      <td>Mega Beedrill</td>\n",
       "      <td>65</td>\n",
       "      <td>150</td>\n",
       "      <td>40</td>\n",
       "      <td>15</td>\n",
       "      <td>80</td>\n",
       "      <td>145</td>\n",
       "      <td>0</td>\n",
       "    </tr>\n",
       "    <tr>\n",
       "      <th>154</th>\n",
       "      <td>136</td>\n",
       "      <td>0.964539</td>\n",
       "      <td>Aerodactyl</td>\n",
       "      <td>80</td>\n",
       "      <td>105</td>\n",
       "      <td>65</td>\n",
       "      <td>60</td>\n",
       "      <td>75</td>\n",
       "      <td>130</td>\n",
       "      <td>0</td>\n",
       "    </tr>\n",
       "    <tr>\n",
       "      <th>477</th>\n",
       "      <td>124</td>\n",
       "      <td>0.961240</td>\n",
       "      <td>Mega Lopunny</td>\n",
       "      <td>65</td>\n",
       "      <td>136</td>\n",
       "      <td>94</td>\n",
       "      <td>54</td>\n",
       "      <td>96</td>\n",
       "      <td>135</td>\n",
       "      <td>0</td>\n",
       "    </tr>\n",
       "    <tr>\n",
       "      <th>727</th>\n",
       "      <td>122</td>\n",
       "      <td>0.960630</td>\n",
       "      <td>Greninja</td>\n",
       "      <td>72</td>\n",
       "      <td>95</td>\n",
       "      <td>67</td>\n",
       "      <td>103</td>\n",
       "      <td>71</td>\n",
       "      <td>122</td>\n",
       "      <td>0</td>\n",
       "    </tr>\n",
       "    <tr>\n",
       "      <th>717</th>\n",
       "      <td>118</td>\n",
       "      <td>0.959350</td>\n",
       "      <td>Meloetta Pirouette Forme</td>\n",
       "      <td>100</td>\n",
       "      <td>128</td>\n",
       "      <td>90</td>\n",
       "      <td>77</td>\n",
       "      <td>77</td>\n",
       "      <td>128</td>\n",
       "      <td>0</td>\n",
       "    </tr>\n",
       "    <tr>\n",
       "      <th>165</th>\n",
       "      <td>119</td>\n",
       "      <td>0.952000</td>\n",
       "      <td>Mega Mewtwo Y</td>\n",
       "      <td>106</td>\n",
       "      <td>150</td>\n",
       "      <td>70</td>\n",
       "      <td>194</td>\n",
       "      <td>120</td>\n",
       "      <td>140</td>\n",
       "      <td>1</td>\n",
       "    </tr>\n",
       "    <tr>\n",
       "      <th>350</th>\n",
       "      <td>114</td>\n",
       "      <td>0.950000</td>\n",
       "      <td>Mega Sharpedo</td>\n",
       "      <td>70</td>\n",
       "      <td>140</td>\n",
       "      <td>70</td>\n",
       "      <td>110</td>\n",
       "      <td>65</td>\n",
       "      <td>105</td>\n",
       "      <td>0</td>\n",
       "    </tr>\n",
       "  </tbody>\n",
       "</table>\n",
       "</div>"
      ],
      "text/plain": [
       "        Wins  Win_ratio                      Name   HP  Attack  Defense  \\\n",
       "Winner                                                                    \n",
       "155      127   0.984496           Mega Aerodactyl   80     135       85   \n",
       "513      116   0.974790                   Weavile   70     120       65   \n",
       "704      121   0.968000    Tornadus Therian Forme   79     100       80   \n",
       "20       115   0.966387             Mega Beedrill   65     150       40   \n",
       "154      136   0.964539                Aerodactyl   80     105       65   \n",
       "477      124   0.961240              Mega Lopunny   65     136       94   \n",
       "727      122   0.960630                  Greninja   72      95       67   \n",
       "717      118   0.959350  Meloetta Pirouette Forme  100     128       90   \n",
       "165      119   0.952000             Mega Mewtwo Y  106     150       70   \n",
       "350      114   0.950000             Mega Sharpedo   70     140       70   \n",
       "\n",
       "        Sp. Atk  Sp. Def  Speed  Legendary_int  \n",
       "Winner                                          \n",
       "155          70       95    150              0  \n",
       "513          45       85    125              0  \n",
       "704         110       90    121              1  \n",
       "20           15       80    145              0  \n",
       "154          60       75    130              0  \n",
       "477          54       96    135              0  \n",
       "727         103       71    122              0  \n",
       "717          77       77    128              0  \n",
       "165         194      120    140              1  \n",
       "350         110       65    105              0  "
      ]
     },
     "execution_count": 30,
     "metadata": {},
     "output_type": "execute_result"
    }
   ],
   "source": [
    "best_win_ratio_df.join(pokemon_df[features])"
   ]
  },
  {
   "cell_type": "markdown",
   "metadata": {},
   "source": [
    "We can see that the most import feature is Speed, conviniently, the top pokemons also have highest speed. Then, they all have relatively high Attack but Sp. Atk, HP and SP.def don't seem to be really important or high (a bit all over the place)."
   ]
  },
  {
   "cell_type": "markdown",
   "metadata": {},
   "source": [
    "Pokémon tournaments can be represented as a so-called _dominance graph_. The dominance graph is a directed graph in which each Pokémon is represented by one vertex, and directed edges point from stronger to weaker Pokémons: in particular, if Pokémon _i_ has won a strictly larger number of times against Pokémon _j_ than _j_ has won against _i_ (that is, if _i_ dominates _j_), there is a directed edge pointing from node _i_ to node _j_. The dominance graph can be represented as an adjacency matrix _G_ where entry _G_<sub>_ij_</sub> is 1 if there is an edge pointing from _i_ to _j_, and 0 otherwise.\n",
    "\n",
    "**2.** (10 points) A simple method for identifying the strongest Pokémon using this graph is to compute the matrix _A_ = _G_ + _G_<sup>2</sup>. Consider a given row of _A_; summing up all elements of that row results in a dominance score for the respective Pokémon. Explain what this score represents and why it may be interpreted as capturing the dominance of a Pokémon."
   ]
  },
  {
   "cell_type": "code",
   "execution_count": 31,
   "metadata": {},
   "outputs": [],
   "source": [
    "NB_POKEMON = len(pokemon_df)\n",
    "dominance_adj = np.zeros((NB_POKEMON, NB_POKEMON))\n",
    "\n",
    "for _, (i, j, winner) in combats_df.iterrows():\n",
    "    if i == winner:\n",
    "        dominance_adj[i-1, j-1] += 1 # Pokemon id: 1..800, but array indexing starts at 0\n",
    "    else:\n",
    "        dominance_adj[j-1, i-1] += 1\n",
    "\n",
    "def map_edge(win_i, win_j):\n",
    "    if win_i == win_j:\n",
    "        return 0, 0\n",
    "    if win_i > win_j:\n",
    "        return 1, 0\n",
    "    return 0, 1\n",
    "    \n",
    "for i in range(NB_POKEMON):\n",
    "    for j in range(i+1, NB_POKEMON):\n",
    "        dominance_adj[i, j], dominance_adj[j, i] = map_edge(dominance_adj[i, j], dominance_adj[j, i])"
   ]
  },
  {
   "cell_type": "markdown",
   "metadata": {},
   "source": [
    "- $G_{i,j} :=$ dominance of pokemon i over pokemon j (pretty clear)\n",
    "- $G^2_{i,j} := \\sum_k G_{i,k} \\dot G_{k, j}$ so it's non zero if for some k, $p_i$ dominates $p_k$ who dominates $p_j$.\n",
    "Basically, taking the sum of a row $i$ of $A$, we get the 'direct' dominance of $i$ + the 'undirect' dominance of $i$ (A bit like a friend of my friend is a friend, plot twisted *à la pokémon*.)\n",
    "\n",
    "*Note*: This also Katz-centrality limited to 2$^{nd}$ degrees neighbors."
   ]
  },
  {
   "cell_type": "markdown",
   "metadata": {},
   "source": [
    "**3** (7 points) Compute _A_ and extract the 10 Pokémon with the highest dominance score."
   ]
  },
  {
   "cell_type": "code",
   "execution_count": 32,
   "metadata": {},
   "outputs": [],
   "source": [
    "A = dominance_adj + dominance_adj @ dominance_adj"
   ]
  },
  {
   "cell_type": "code",
   "execution_count": 33,
   "metadata": {},
   "outputs": [
    {
     "data": {
      "text/plain": [
       "[(1, 'Mewtwo', 8192.0),\n",
       " (2, 'Deoxys Speed Forme', 7885.0),\n",
       " (3, 'Aerodactyl', 7531.0),\n",
       " (4, 'Jolteon', 7334.0),\n",
       " (5, 'Mega Rayquaza', 7075.0),\n",
       " (6, 'DeoxysAttack Forme', 7015.0),\n",
       " (7, 'Mega Houndoom', 7007.0),\n",
       " (8, 'Mega Aerodactyl', 6971.0),\n",
       " (9, 'Mega Absol', 6939.0),\n",
       " (10, 'Mega Mewtwo X', 6934.0)]"
      ]
     },
     "execution_count": 33,
     "metadata": {},
     "output_type": "execute_result"
    }
   ],
   "source": [
    "ranking_indices = A.sum(1).argsort()[::-1] + 1\n",
    "list(zip(range(1, 11), pokemon_df.Name.loc[ranking_indices], np.sort(A.sum(1))[::-1]))"
   ]
  },
  {
   "cell_type": "markdown",
   "metadata": {},
   "source": [
    "**2.** (3 points) Compare the ranking by dominance scores with the ranking by winning ratio (cf. subquestion 1 above). What do you observe? How do you explain the differences (if any)?"
   ]
  },
  {
   "cell_type": "code",
   "execution_count": 34,
   "metadata": {},
   "outputs": [
    {
     "data": {
      "text/html": [
       "<div>\n",
       "<style scoped>\n",
       "    .dataframe tbody tr th:only-of-type {\n",
       "        vertical-align: middle;\n",
       "    }\n",
       "\n",
       "    .dataframe tbody tr th {\n",
       "        vertical-align: top;\n",
       "    }\n",
       "\n",
       "    .dataframe thead th {\n",
       "        text-align: right;\n",
       "    }\n",
       "</style>\n",
       "<table border=\"1\" class=\"dataframe\">\n",
       "  <thead>\n",
       "    <tr style=\"text-align: right;\">\n",
       "      <th></th>\n",
       "      <th>HP</th>\n",
       "      <th>Attack</th>\n",
       "      <th>Defense</th>\n",
       "      <th>Sp. Atk</th>\n",
       "      <th>Sp. Def</th>\n",
       "      <th>Speed</th>\n",
       "      <th>Legendary_int</th>\n",
       "      <th>Name</th>\n",
       "      <th>Wins</th>\n",
       "      <th>Win_ratio</th>\n",
       "    </tr>\n",
       "    <tr>\n",
       "      <th>pid</th>\n",
       "      <th></th>\n",
       "      <th></th>\n",
       "      <th></th>\n",
       "      <th></th>\n",
       "      <th></th>\n",
       "      <th></th>\n",
       "      <th></th>\n",
       "      <th></th>\n",
       "      <th></th>\n",
       "      <th></th>\n",
       "    </tr>\n",
       "  </thead>\n",
       "  <tbody>\n",
       "    <tr>\n",
       "      <th>163</th>\n",
       "      <td>106</td>\n",
       "      <td>110</td>\n",
       "      <td>90</td>\n",
       "      <td>154</td>\n",
       "      <td>90</td>\n",
       "      <td>130</td>\n",
       "      <td>1</td>\n",
       "      <td>Mewtwo</td>\n",
       "      <td>152</td>\n",
       "      <td>0.926829</td>\n",
       "    </tr>\n",
       "    <tr>\n",
       "      <th>432</th>\n",
       "      <td>50</td>\n",
       "      <td>95</td>\n",
       "      <td>90</td>\n",
       "      <td>95</td>\n",
       "      <td>90</td>\n",
       "      <td>180</td>\n",
       "      <td>1</td>\n",
       "      <td>Deoxys Speed Forme</td>\n",
       "      <td>133</td>\n",
       "      <td>0.917241</td>\n",
       "    </tr>\n",
       "    <tr>\n",
       "      <th>154</th>\n",
       "      <td>80</td>\n",
       "      <td>105</td>\n",
       "      <td>65</td>\n",
       "      <td>60</td>\n",
       "      <td>75</td>\n",
       "      <td>130</td>\n",
       "      <td>0</td>\n",
       "      <td>Aerodactyl</td>\n",
       "      <td>136</td>\n",
       "      <td>0.964539</td>\n",
       "    </tr>\n",
       "    <tr>\n",
       "      <th>147</th>\n",
       "      <td>65</td>\n",
       "      <td>65</td>\n",
       "      <td>60</td>\n",
       "      <td>110</td>\n",
       "      <td>95</td>\n",
       "      <td>130</td>\n",
       "      <td>0</td>\n",
       "      <td>Jolteon</td>\n",
       "      <td>124</td>\n",
       "      <td>0.925373</td>\n",
       "    </tr>\n",
       "    <tr>\n",
       "      <th>427</th>\n",
       "      <td>105</td>\n",
       "      <td>180</td>\n",
       "      <td>100</td>\n",
       "      <td>180</td>\n",
       "      <td>100</td>\n",
       "      <td>115</td>\n",
       "      <td>1</td>\n",
       "      <td>Mega Rayquaza</td>\n",
       "      <td>127</td>\n",
       "      <td>0.947761</td>\n",
       "    </tr>\n",
       "    <tr>\n",
       "      <th>430</th>\n",
       "      <td>50</td>\n",
       "      <td>180</td>\n",
       "      <td>20</td>\n",
       "      <td>180</td>\n",
       "      <td>20</td>\n",
       "      <td>150</td>\n",
       "      <td>1</td>\n",
       "      <td>DeoxysAttack Forme</td>\n",
       "      <td>121</td>\n",
       "      <td>0.902985</td>\n",
       "    </tr>\n",
       "    <tr>\n",
       "      <th>249</th>\n",
       "      <td>75</td>\n",
       "      <td>90</td>\n",
       "      <td>90</td>\n",
       "      <td>140</td>\n",
       "      <td>90</td>\n",
       "      <td>115</td>\n",
       "      <td>0</td>\n",
       "      <td>Mega Houndoom</td>\n",
       "      <td>128</td>\n",
       "      <td>0.948148</td>\n",
       "    </tr>\n",
       "    <tr>\n",
       "      <th>155</th>\n",
       "      <td>80</td>\n",
       "      <td>135</td>\n",
       "      <td>85</td>\n",
       "      <td>70</td>\n",
       "      <td>95</td>\n",
       "      <td>150</td>\n",
       "      <td>0</td>\n",
       "      <td>Mega Aerodactyl</td>\n",
       "      <td>127</td>\n",
       "      <td>0.984496</td>\n",
       "    </tr>\n",
       "    <tr>\n",
       "      <th>394</th>\n",
       "      <td>65</td>\n",
       "      <td>150</td>\n",
       "      <td>60</td>\n",
       "      <td>115</td>\n",
       "      <td>60</td>\n",
       "      <td>115</td>\n",
       "      <td>0</td>\n",
       "      <td>Mega Absol</td>\n",
       "      <td>130</td>\n",
       "      <td>0.935252</td>\n",
       "    </tr>\n",
       "    <tr>\n",
       "      <th>164</th>\n",
       "      <td>106</td>\n",
       "      <td>190</td>\n",
       "      <td>100</td>\n",
       "      <td>154</td>\n",
       "      <td>100</td>\n",
       "      <td>130</td>\n",
       "      <td>1</td>\n",
       "      <td>Mega Mewtwo X</td>\n",
       "      <td>125</td>\n",
       "      <td>0.925926</td>\n",
       "    </tr>\n",
       "  </tbody>\n",
       "</table>\n",
       "</div>"
      ],
      "text/plain": [
       "      HP  Attack  Defense  Sp. Atk  Sp. Def  Speed  Legendary_int  \\\n",
       "pid                                                                 \n",
       "163  106     110       90      154       90    130              1   \n",
       "432   50      95       90       95       90    180              1   \n",
       "154   80     105       65       60       75    130              0   \n",
       "147   65      65       60      110       95    130              0   \n",
       "427  105     180      100      180      100    115              1   \n",
       "430   50     180       20      180       20    150              1   \n",
       "249   75      90       90      140       90    115              0   \n",
       "155   80     135       85       70       95    150              0   \n",
       "394   65     150       60      115       60    115              0   \n",
       "164  106     190      100      154      100    130              1   \n",
       "\n",
       "                   Name  Wins  Win_ratio  \n",
       "pid                                       \n",
       "163              Mewtwo   152   0.926829  \n",
       "432  Deoxys Speed Forme   133   0.917241  \n",
       "154          Aerodactyl   136   0.964539  \n",
       "147             Jolteon   124   0.925373  \n",
       "427       Mega Rayquaza   127   0.947761  \n",
       "430  DeoxysAttack Forme   121   0.902985  \n",
       "249       Mega Houndoom   128   0.948148  \n",
       "155     Mega Aerodactyl   127   0.984496  \n",
       "394          Mega Absol   130   0.935252  \n",
       "164       Mega Mewtwo X   125   0.925926  "
      ]
     },
     "execution_count": 34,
     "metadata": {},
     "output_type": "execute_result"
    }
   ],
   "source": [
    "pokemon_df[features + ['Name']].loc[ranking_indices].head(10).join(wins_df)"
   ]
  },
  {
   "cell_type": "code",
   "execution_count": 35,
   "metadata": {},
   "outputs": [
    {
     "data": {
      "text/html": [
       "<div>\n",
       "<style scoped>\n",
       "    .dataframe tbody tr th:only-of-type {\n",
       "        vertical-align: middle;\n",
       "    }\n",
       "\n",
       "    .dataframe tbody tr th {\n",
       "        vertical-align: top;\n",
       "    }\n",
       "\n",
       "    .dataframe thead th {\n",
       "        text-align: right;\n",
       "    }\n",
       "</style>\n",
       "<table border=\"1\" class=\"dataframe\">\n",
       "  <thead>\n",
       "    <tr style=\"text-align: right;\">\n",
       "      <th></th>\n",
       "      <th>Wins</th>\n",
       "      <th>Win_ratio</th>\n",
       "    </tr>\n",
       "    <tr>\n",
       "      <th>Winner</th>\n",
       "      <th></th>\n",
       "      <th></th>\n",
       "    </tr>\n",
       "  </thead>\n",
       "  <tbody>\n",
       "    <tr>\n",
       "      <th>163</th>\n",
       "      <td>152</td>\n",
       "      <td>0.926829</td>\n",
       "    </tr>\n",
       "    <tr>\n",
       "      <th>154</th>\n",
       "      <td>136</td>\n",
       "      <td>0.964539</td>\n",
       "    </tr>\n",
       "    <tr>\n",
       "      <th>438</th>\n",
       "      <td>136</td>\n",
       "      <td>0.912752</td>\n",
       "    </tr>\n",
       "    <tr>\n",
       "      <th>428</th>\n",
       "      <td>134</td>\n",
       "      <td>0.875817</td>\n",
       "    </tr>\n",
       "    <tr>\n",
       "      <th>432</th>\n",
       "      <td>133</td>\n",
       "      <td>0.917241</td>\n",
       "    </tr>\n",
       "    <tr>\n",
       "      <th>314</th>\n",
       "      <td>133</td>\n",
       "      <td>0.886667</td>\n",
       "    </tr>\n",
       "    <tr>\n",
       "      <th>214</th>\n",
       "      <td>130</td>\n",
       "      <td>0.822785</td>\n",
       "    </tr>\n",
       "    <tr>\n",
       "      <th>394</th>\n",
       "      <td>130</td>\n",
       "      <td>0.935252</td>\n",
       "    </tr>\n",
       "    <tr>\n",
       "      <th>249</th>\n",
       "      <td>128</td>\n",
       "      <td>0.948148</td>\n",
       "    </tr>\n",
       "    <tr>\n",
       "      <th>155</th>\n",
       "      <td>127</td>\n",
       "      <td>0.984496</td>\n",
       "    </tr>\n",
       "    <tr>\n",
       "      <th>427</th>\n",
       "      <td>127</td>\n",
       "      <td>0.947761</td>\n",
       "    </tr>\n",
       "    <tr>\n",
       "      <th>522</th>\n",
       "      <td>125</td>\n",
       "      <td>0.827815</td>\n",
       "    </tr>\n",
       "    <tr>\n",
       "      <th>410</th>\n",
       "      <td>125</td>\n",
       "      <td>0.939850</td>\n",
       "    </tr>\n",
       "    <tr>\n",
       "      <th>164</th>\n",
       "      <td>125</td>\n",
       "      <td>0.925926</td>\n",
       "    </tr>\n",
       "    <tr>\n",
       "      <th>477</th>\n",
       "      <td>124</td>\n",
       "      <td>0.961240</td>\n",
       "    </tr>\n",
       "  </tbody>\n",
       "</table>\n",
       "</div>"
      ],
      "text/plain": [
       "        Wins  Win_ratio\n",
       "Winner                 \n",
       "163      152   0.926829\n",
       "154      136   0.964539\n",
       "438      136   0.912752\n",
       "428      134   0.875817\n",
       "432      133   0.917241\n",
       "314      133   0.886667\n",
       "214      130   0.822785\n",
       "394      130   0.935252\n",
       "249      128   0.948148\n",
       "155      127   0.984496\n",
       "427      127   0.947761\n",
       "522      125   0.827815\n",
       "410      125   0.939850\n",
       "164      125   0.925926\n",
       "477      124   0.961240"
      ]
     },
     "execution_count": 35,
     "metadata": {},
     "output_type": "execute_result"
    }
   ],
   "source": [
    "wins_df.sort_values('Wins', ascending=False).head(15)"
   ]
  },
  {
   "cell_type": "markdown",
   "metadata": {},
   "source": [
    "Our top 10 changed quite a bit. Explanation can't only find roots in the features. But we note that now, in our top 10, we have pokemon who have won the most fights. A possible explanation is that our scoring is based on Katz-centrality and the more win you have, the higher the probability of having seen many different pokemons (high out-degree). As the out-degree increase, the number of path of length 2 ($G^2$) will also increase. One should note that top 10 pokemon do have high win percentage."
   ]
  },
  {
   "cell_type": "markdown",
   "metadata": {},
   "source": [
    "**3.** (5 points) Professor Oak is really keen on featuring a solid ranking mechanism in the new Pokedex, so you need to make a decision: Which scoring method is better, that based on winning ratio or that based on dominance scores? Support your opinion with explanations and examples."
   ]
  },
  {
   "cell_type": "markdown",
   "metadata": {},
   "source": [
    "A big counter example to winning ratio is that, a newcomer with 1 win, 0 loss would have a perfect ratio ending up at the top of the leaderboard with no reason. On the other hand, as stated previously dominance score is based on Katz-centrality, a quite robust measure, that is perfect to identify important (aka dominant) nodes in the network."
   ]
  }
 ],
 "metadata": {
  "kernelspec": {
   "display_name": "Python [conda env:ada] *",
   "language": "python",
   "name": "conda-env-ada-py"
  },
  "language_info": {
   "codemirror_mode": {
    "name": "ipython",
    "version": 3
   },
   "file_extension": ".py",
   "mimetype": "text/x-python",
   "name": "python",
   "nbconvert_exporter": "python",
   "pygments_lexer": "ipython3",
   "version": "3.7.4"
  }
 },
 "nbformat": 4,
 "nbformat_minor": 4
}
